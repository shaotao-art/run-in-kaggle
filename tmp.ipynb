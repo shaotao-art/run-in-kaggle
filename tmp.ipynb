{
 "cells": [
  {
   "cell_type": "code",
   "execution_count": 1,
   "metadata": {},
   "outputs": [
    {
     "name": "stderr",
     "output_type": "stream",
     "text": [
      "/Users/starfish/opt/anaconda3/envs/dl/lib/python3.9/site-packages/mmcv/__init__.py:20: UserWarning: On January 1, 2023, MMCV will release v2.0.0, in which it will remove components related to the training process and add a data transformation module. In addition, it will rename the package names mmcv to mmcv-lite and mmcv-full to mmcv. See https://github.com/open-mmlab/mmcv/blob/master/docs/en/compatibility.md for more details.\n",
      "  warnings.warn(\n"
     ]
    }
   ],
   "source": [
    "import numpy as np\n",
    "from matplotlib import pyplot as plt\n",
    "import cv2\n",
    "import torch\n",
    "from torch import nn\n",
    "from datasets.data import PAN_CTW\n",
    "from post_processing import pa\n",
    "from models import model\n",
    "import os\n",
    "from configer import config"
   ]
  },
  {
   "cell_type": "code",
   "execution_count": 2,
   "metadata": {},
   "outputs": [
    {
     "name": "stdout",
     "output_type": "stream",
     "text": [
      "dict_keys(['imgs', 'img_metas'])\n"
     ]
    }
   ],
   "source": [
    "data = PAN_CTW('test')\n",
    "sample = data[0]\n",
    "print(sample.keys())"
   ]
  },
  {
   "cell_type": "code",
   "execution_count": 3,
   "metadata": {},
   "outputs": [],
   "source": [
    "ckp = torch.load('./pan_r18_ctw.pth.tar', map_location='cpu')['state_dict']\n",
    "d = dict()\n",
    "for key, value in ckp.items():\n",
    "    tmp = key[7:]\n",
    "    d[tmp] = value"
   ]
  },
  {
   "cell_type": "code",
   "execution_count": 4,
   "metadata": {},
   "outputs": [
    {
     "data": {
      "text/plain": [
       "<All keys matched successfully>"
      ]
     },
     "execution_count": 4,
     "metadata": {},
     "output_type": "execute_result"
    }
   ],
   "source": [
    "Net = model.PAN(config.backbone, config.neck_param, config.head_param)\n",
    "Net.load_state_dict(d)"
   ]
  },
  {
   "cell_type": "code",
   "execution_count": 5,
   "metadata": {},
   "outputs": [
    {
     "name": "stdout",
     "output_type": "stream",
     "text": [
      "torch.Size([1, 6, 640, 992])\n"
     ]
    }
   ],
   "source": [
    "Net.eval()\n",
    "with torch.no_grad():\n",
    "    out = Net(sample['imgs'].unsqueeze(0))\n",
    "    print(out.shape)"
   ]
  },
  {
   "cell_type": "code",
   "execution_count": 7,
   "metadata": {},
   "outputs": [],
   "source": [
    "def write_result_ctw(image_name, outputs, result_path=result_text_path):\n",
    "    bboxes = outputs['bboxes']\n",
    "\n",
    "    lines = []\n",
    "    for i, bbox in enumerate(bboxes):\n",
    "        bbox = bbox.reshape(-1, 2)[:, ::-1].reshape(-1)\n",
    "        values = [int(v) for v in bbox]\n",
    "        line = '%d' % values[0]\n",
    "        for v_id in range(1, len(values)):\n",
    "            line += ',%d' % values[v_id]\n",
    "        line += '\\n'\n",
    "        lines.append(line)\n",
    "\n",
    "    file_name = '%s.txt' % image_name\n",
    "    file_path = os.path.join(result_path, file_name)\n",
    "    with open(file_path, 'w') as f:\n",
    "        for line in lines:\n",
    "            f.write(line)"
   ]
  },
  {
   "cell_type": "code",
   "execution_count": 8,
   "metadata": {},
   "outputs": [],
   "source": [
    "outputs = dict()\n",
    "img_meta = sample['img_metas']\n",
    "\n",
    "score = torch.sigmoid(out[:, 0, :, :])\n",
    "kernels = out[:, :2, :, :] > 0\n",
    "text_mask = kernels[:, :1, :, :]\n",
    "kernels[:, 1:, :, :] = kernels[:, 1:, :, :] * text_mask\n",
    "emb = out[:, 2:, :, :]\n",
    "emb = emb * text_mask.float()\n",
    "\n",
    "score = score.data.cpu().numpy()[0].astype(np.float32)\n",
    "kernels = kernels.data.cpu().numpy()[0].astype(np.uint8)\n",
    "emb = emb.cpu().numpy()[0].astype(np.float32)\n",
    "\n",
    "# pa\n",
    "label = pa(kernels, emb)\n",
    "\n",
    "# image size\n",
    "org_img_size = img_meta['org_img_size']\n",
    "img_size = img_meta['img_size']\n",
    "img_path = img_meta['img_path']\n",
    "img_name = img_meta['img_name']\n",
    "\n",
    "label_num = np.max(label) + 1\n",
    "label = cv2.resize(label, (int(img_size[1]), int(img_size[0])),\n",
    "                    interpolation=cv2.INTER_NEAREST)\n",
    "score = cv2.resize(score, (int(img_size[1]), int(img_size[0])),\n",
    "                    interpolation=cv2.INTER_NEAREST)\n",
    "\n",
    "\n",
    "scale = (float(org_img_size[1]) / float(img_size[1]),\n",
    "            float(org_img_size[0]) / float(img_size[0]))\n",
    "\n",
    "bboxes = []\n",
    "scores = []\n",
    "for i in range(1, label_num):\n",
    "    ind = label == i\n",
    "    points = np.array(np.where(ind)).transpose((1, 0))\n",
    "\n",
    "    if points.shape[0] < min_area:\n",
    "        label[ind] = 0\n",
    "        continue\n",
    "\n",
    "    score_i = np.mean(score[ind])\n",
    "    if score_i < min_score:\n",
    "        label[ind] = 0\n",
    "        continue\n",
    "\n",
    "\n",
    "    if bbox_type == 'rect':\n",
    "        rect = cv2.minAreaRect(points[:, ::-1])\n",
    "        bbox = cv2.boxPoints(rect) * scale\n",
    "    elif bbox_type == 'poly':\n",
    "        binary = np.zeros(label.shape, dtype='uint8')\n",
    "        binary[ind] = 1\n",
    "        contours, _ = cv2.findContours(binary, cv2.RETR_EXTERNAL,\n",
    "                                        cv2.CHAIN_APPROX_SIMPLE)\n",
    "        bbox = contours[0] * scale\n",
    "\n",
    "    bbox = bbox.astype('int32')\n",
    "    bboxes.append(bbox.reshape(-1))\n",
    "    scores.append(score_i)\n",
    "\n",
    "outputs.update(dict(bboxes=bboxes, scores=scores))"
   ]
  },
  {
   "cell_type": "code",
   "execution_count": 10,
   "metadata": {},
   "outputs": [
    {
     "data": {
      "text/plain": [
       "True"
      ]
     },
     "execution_count": 10,
     "metadata": {},
     "output_type": "execute_result"
    }
   ],
   "source": [
    "write_result_ctw(img_name, outputs)\n",
    "ori_img = cv2.imread(img_path)\n",
    "boxes = [b.reshape(-1, 2) for b in outputs['bboxes']]\n",
    "vis_img = cv2.polylines(ori_img, boxes, True, (0, 255, 255), 2)\n",
    "cv2.imwrite(os.path.join(result_img_path, img_name), vis_img)"
   ]
  },
  {
   "cell_type": "code",
   "execution_count": null,
   "metadata": {},
   "outputs": [],
   "source": []
  }
 ],
 "metadata": {
  "kernelspec": {
   "display_name": "dl",
   "language": "python",
   "name": "python3"
  },
  "language_info": {
   "codemirror_mode": {
    "name": "ipython",
    "version": 3
   },
   "file_extension": ".py",
   "mimetype": "text/x-python",
   "name": "python",
   "nbconvert_exporter": "python",
   "pygments_lexer": "ipython3",
   "version": "3.9.16"
  },
  "orig_nbformat": 4
 },
 "nbformat": 4,
 "nbformat_minor": 2
}
